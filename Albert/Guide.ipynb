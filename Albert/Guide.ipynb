{
 "cells": [
  {
   "cell_type": "markdown",
   "metadata": {},
   "source": [
    "## Prelude\n",
    "\n",
    "Chromebooks are used because they are cheap, portable, and have great battery lives. They are not used because they are clunky, useless without internet, and difficult to debug.\n",
    "\n",
    "I advocate for a custom chromebook setup involving using [SeaBIOS](https://johnlewis.ie/custom-chromebook-firmware/rom-download/) in order to dual boot ChromeOS and Ubuntu. By connecting a Ubuntu installed portable hard drive or usb thumbdrive to the chromebook, one is able to transform the device to one that is useful without an internet connection. An important distinction is that I'm referring to the full installation of Ubuntu, not the installer.\n",
    "\n",
    "The main impact of this project is using purely online resources to create a workflow for data science, and I agree that is the most powerful part of the project, but I strongly believe that having the option to practice and develop without using the internet is a necessity for our target demographic. A 128 GB usb thumbdrive can be procured for only $10-20, and the cost of these devices will go down dramatically over time.\n",
    "  \n",
    "Additionally, using old laptops discarded by educational facilitie and companies could also be a viable way to procure computers, as Chrome OS can similarly be dual booted from these machines.\n",
    "\n",
    "It would be super cool to have some kind of partnership with a chromebook manufacturer who could put custom identification stickers and install the open source bios system, though this is probably a pipe dream."
   ]
  },
  {
   "cell_type": "markdown",
   "metadata": {},
   "source": [
    "--------------------------------------------------------------------------------------____"
   ]
  },
  {
   "cell_type": "markdown",
   "metadata": {},
   "source": [
    "# Introduction\n",
    "This is a basic tutorial that is designed for someone that has never used a computer before. The only prerequisite is the ability to read and write, and the willpower to overcome the computer frustrations that you will definitely run into. The goals of this tutorial are as following:\n",
    "- a) Get you familiar with using a computer\n",
    "- b) Get you familiar with using the internet\n",
    "- c) Get you familiar with what data science is\n",
    "\n",
    "An important note is that this tutorial will not be focused on helping you understand how things work or why they work in a certain way. This tutorial is designed as a quick start guide and will focus on getting stuff done, but we have tutorials that explain these concepts here! At the end of this tutorial you will be able to say you used the three most important parts of a computer - the OS, the internet browser, and the terminal."
   ]
  },
  {
   "cell_type": "markdown",
   "metadata": {},
   "source": [
    "### Prerequisites\n",
    "All you need to know for now is the following:\n",
    "- OS stands for operating system. This determines the type of computer you have. There are three main types of computers - Windows, Mac, and Linux. All you need to know is that you have a special kind of Linux computer.\n",
    "- The Internet is the portal to the online world. You might have heard about people using apps like Facebook and Instagram or using an email, all these things are done through the internet.\n",
    "- Data science is the study of data. For now you can think of data science as looking at numbers."
   ]
  },
  {
   "cell_type": "markdown",
   "metadata": {},
   "source": [
    "---------------------------------------------------------------------------------------------"
   ]
  },
  {
   "cell_type": "markdown",
   "metadata": {},
   "source": [
    "# Computer Basics\n",
    "There are a lot of buttons and switches, but don't worry about most of them for now. As you use a computer you will eventually become familiar with the various parts and functions. The most important parts of your computer are the trackpad, the keyboard, and the power switch. Here are the three parts in short detail:\n",
    "- Keyboard: This is a photo of a keyboard, each key has an English letter, number, or symbol printed on it. If you press that key then the computer will output the corresponding letter. You can capitalize the letter, or choose the secondary symbol on a key by holding down the shift key while you type it in.\n",
    "- Trackpad: This is a photo of the trackpad. The cursor, pictured here, follows your movements on the trackpad. You use it by dragging one finger in a specified direction. A **click** is a computer command you activate when you push down on the trackpad and hear a small clicking noise. Use it to interact with objects on your screen. You can also **select** text by pushing down on the trackpad with one finger until you hear a click and *while continuing to press down on the trackpad* moving your finger. This will highlight the text that you have selected.\n",
    "- Power switch: This is a photo of the power switch, you may recognize the symbol printed on it. You turn on your button by holding down on this button for a few seconds. If the computer does not power on, try charging it and then trying to turn it on again in a few hours."
   ]
  },
  {
   "cell_type": "markdown",
   "metadata": {},
   "source": [
    "### Important Computer Notes\n",
    "\n",
    "#### Sleep mode and power details\n",
    "While the power button is used to turn on your computer, it is important you do not use the power button to turn off your computer. This has the potential to harm your computer if you are in the middle of an important update - while many computers have fail-safe systems it is always better to on the safe side. For now while you are learning, put the computer to **sleep mode**.\n",
    "\n",
    "**Sleep mode** is when your computer goes to sleep and uses less energy. You can activate sleep mode by simply closing your computer - it will automaticlly enter sleep mode. Leaving your computer on while you're not using it will drain its battery life. You can \"wake up\" your computer by opening it up, and clicking on the track pad once. \n",
    "\n",
    "#### Charging\n",
    "The starter kit you were given should have contained the computer, a power cable, and this guide as a print out. Computer are run off of a rechargeable battery. Periodically you will need to charge your computer. This involves plugging in the cable to your computer charge port pictured here, and by connecting the power plug to an outlet.\n",
    "\n",
    "The easiest way to ensure your computer is charged is by using it while it is plugged in to the power outlet, or by charging it every night. Alternatively your chromebook has a battery indicator pictured here. When the level is low or red, it is time to charge the computer."
   ]
  },
  {
   "cell_type": "markdown",
   "metadata": {},
   "source": [
    "## Activity 1: Computer set up\n",
    "It's time to apply what you just learned. Use the following steps to turn on and set up your computer. At the back of this booklet there are solutions for the setup, but please try to solve these on your own before looking at the answer.\n",
    "\n",
    "1. Turn on the computer\n",
    "2. Type in your account settings to your liking - if you were part of the JHU Data Science Camp please use the google account that was set up for you\n",
    "3. Wait until your **desktop** loads. Your desktop is your default home screen. The desktop is what you will generally see on your screen when your computer powers on\n",
    "3. Draw a blue rectangle with your cursor by selecting an area of the screen\n",
    "4. Double click on the circle in the bottom left hand corner. A double click is when you click on the same area two times in a row\n",
    "5. Click on the the icon that says \"Google docs\" and practice your typing\n",
    "6. Close the **window** by clicking on the X symbol in the upper right hand corner\n",
    "7. Try to find the internet icon and double click it\n",
    "- * Hint: It should say Google Chrome *\n",
    "8. Type something in to the **address bar** and press the enter button\n",
    "9. Close the window, and try to find the icon that says Sheets and double click it\n",
    "10. Try entering words into the boxes by typing something into the box and then clicking the enter button\n",
    "\n",
    "If you have any trouble make sure to check the solution in the back of this booklet! Using a computer for the first time is very frustrating, but if you keep practicing using it will be like second nature."
   ]
  },
  {
   "cell_type": "markdown",
   "metadata": {},
   "source": [
    "---------------------------------------------------------------------------------------------------"
   ]
  },
  {
   "cell_type": "markdown",
   "metadata": {},
   "source": [
    "# Internet Basics\n"
   ]
  },
  {
   "cell_type": "markdown",
   "metadata": {},
   "source": [
    "The internet is a very powerful but dangerous tool. There are many people who will try to trick you into sending them money or giving them your credit card. If you see any websites offering you free stuff you should not be fooled - they are just trying to steal your information. Exercise caution for the types of websites that you visit. the easiest way to make sure you are using the internet properly is to imagine a police officer standing behind you while you use the internet. While this might seem extreme, the US government and many other sources are continuously monitoring your internet behavior so this analogy is far less ridiculous than you might think."
   ]
  },
  {
   "cell_type": "markdown",
   "metadata": {},
   "source": [
    "Connecting to the internet is as simple as three steps:\n",
    "1. Connect to a wireless network\n",
    "2. Use an internet browser to create an internet window\n",
    "3. Visit a URL"
   ]
  },
  {
   "cell_type": "markdown",
   "metadata": {},
   "source": [
    "### Wireless networks\n",
    "\n",
    "If the internet is an apartment complex, then the wireless network is your key to the front door. For now you will likely want to find a safe and secure free source of internet - if you are enrolled in the JHU data science camp then we will have given you a key for access."
   ]
  },
  {
   "cell_type": "markdown",
   "metadata": {},
   "source": [
    "## Activity 2: Internet set up"
   ]
  },
  {
   "cell_type": "markdown",
   "metadata": {},
   "source": [
    "Like the previous set of exercises, if you have any trouble refer to the solutions at the back of this booklet.\n",
    "\n",
    "1. Open your internet browser\n",
    "2. Type in ublock origin in the url box\n",
    "3. Install the plugin from the google apps store\n",
    "4. Visit your gmail account by searching gmail in the url box\n",
    "5. Click on the red Compose button in the upper left-hand corner and send an email to ``` jhudatascience.gmail.com ```\n",
    "6. Visit github by searching github in the url box\n",
    "7. Make an account\n",
    "8. Visit ``` https://github.com/chromebookdatascience/lecture_notes ``` by typing in the url to the url box"
   ]
  },
  {
   "cell_type": "markdown",
   "metadata": {},
   "source": [
    "---------------------------------------------------------------------------____"
   ]
  },
  {
   "cell_type": "markdown",
   "metadata": {},
   "source": [
    "# Using your computer as a productivity tool"
   ]
  },
  {
   "cell_type": "code",
   "execution_count": null,
   "metadata": {
    "collapsed": true
   },
   "outputs": [],
   "source": []
  },
  {
   "cell_type": "code",
   "execution_count": null,
   "metadata": {
    "collapsed": true
   },
   "outputs": [],
   "source": []
  },
  {
   "cell_type": "code",
   "execution_count": null,
   "metadata": {
    "collapsed": true
   },
   "outputs": [],
   "source": []
  },
  {
   "cell_type": "code",
   "execution_count": null,
   "metadata": {
    "collapsed": true
   },
   "outputs": [],
   "source": []
  },
  {
   "cell_type": "markdown",
   "metadata": {},
   "source": [
    "-------------------------------------------------------------------------------------___"
   ]
  },
  {
   "cell_type": "markdown",
   "metadata": {},
   "source": [
    "## Data Science Basics\n",
    "\n",
    "A more thorough explanation of data science is available at (), however for now all you need to know for right now is that data science is the study of data - facts and statistics collected for analysis. Let's briefly take a look at some exercises that will help you explore the rich field of data. "
   ]
  },
  {
   "cell_type": "markdown",
   "metadata": {},
   "source": [
    "## Forms of data\n",
    "1. CSV files\n",
    "2. Excel files\n",
    "3. Images\n",
    "4. Miscellaneous\n",
    "\n",
    "The above, especially the first three options, lists the most popular forms of data that you will come in contact with. Keep in mind that a lot of the data you will encounter will be of the fourth category. This is the most difficult form to work with and thus will be explained in a separate tutorial."
   ]
  },
  {
   "cell_type": "markdown",
   "metadata": {},
   "source": [
    "### CSV Files\n",
    "\n",
    "CSV files, also known as comma separated values, are plain text documents that store tabular \n",
    "data. Tabular data includes numbers or text. The main purpose of csv files are to provide easy\n",
    "to read data for both computers and humans.\n",
    "\n",
    "While csv implies the separation of values using commas, unfortunately there is no standard format, and some csvs may be separated by tabs or spaces instead of commas. The strength of csvs lie in the strength of programs which can parse csv files regardless of delimiter."
   ]
  },
  {
   "cell_type": "markdown",
   "metadata": {},
   "source": [
    "### Excel Files\n",
    "\n",
    "Excel is a Microsoft Office program that uses spreadsheets to analyze data. It is similar in style to Google Sheets which we reviewed in a previous tutorial found [here](). Excel files will usually be in .xls or .xlsx file format depending on versioning. Most importantly, excel files are the most familiar file format since Microsoft Office is so popular."
   ]
  },
  {
   "cell_type": "markdown",
   "metadata": {},
   "source": [
    "### Images\n",
    "\n",
    "The simplest definition of an image is simply a picture. While most people might not think of images as data, images are quickly becoming one of the most popular file formats. Images are actually just 3D or 2D arrays of numbers representing different patterns of colors and/or intensities. These patterns can be analyzed to create amazing results."
   ]
  },
  {
   "cell_type": "markdown",
   "metadata": {},
   "source": [
    "### Miscellaneous\n",
    "\n",
    "Unfortunately many people will have custom data files for you to analyze, which will require you to manually clean and organize the data. JSON objects, unformatted text files, and script output files are all very common examples of miscellaneous files."
   ]
  },
  {
   "cell_type": "markdown",
   "metadata": {},
   "source": [
    "## Activity 3: Data type exploration"
   ]
  },
  {
   "cell_type": "markdown",
   "metadata": {},
   "source": [
    "This is the final set of exercises. Understanding what data is and how to use it is very important, so try not to look at the solutions this time.\n",
    "\n",
    "1. Open up Google Docs like in Activity 1\n",
    "2. Create a new document titled \"Quickstart Guide Activity 3\"\n",
    "3. \n",
    "\n",
    "\n",
    "\n",
    "Create a new file in Github\n",
    "Copy the text in your google doc and paste it into the Github file\n",
    "Click the green commit button"
   ]
  },
  {
   "cell_type": "markdown",
   "metadata": {},
   "source": [
    "## Quick Quiz\n",
    "\n",
    "What kind of format are the following pieces of data?"
   ]
  },
  {
   "cell_type": "code",
   "execution_count": 3,
   "metadata": {},
   "outputs": [
    {
     "data": {
      "text/plain": [
       "'\\n- a) csv\\n- b) excel\\n- c) image\\n- d) miscellaneous\\n'"
      ]
     },
     "execution_count": 3,
     "metadata": {},
     "output_type": "execute_result"
    }
   ],
   "source": [
    "## Question 1.\n",
    "\n",
    "1, 2, 3\n",
    "4, 5, 6\n",
    "7, 8, 9"
   ]
  },
  {
   "cell_type": "code",
   "execution_count": 6,
   "metadata": {},
   "outputs": [
    {
     "data": {
      "text/plain": [
       "{'glossary': {'GlossDiv': {'GlossList': {'GlossEntry': {'Abbrev': 'ISO 8879:1986',\n",
       "     'Acronym': 'SGML',\n",
       "     'GlossDef': {'GlossSeeAlso': ['GML', 'XML'],\n",
       "      'para': 'A meta-markup language, used to create markup languages such as DocBook.'},\n",
       "     'GlossSee': 'markup',\n",
       "     'GlossTerm': 'Standard Generalized Markup Language',\n",
       "     'ID': 'SGML',\n",
       "     'SortAs': 'SGML'}},\n",
       "   'title': 'S'},\n",
       "  'title': 'example glossary'}}"
      ]
     },
     "execution_count": 6,
     "metadata": {},
     "output_type": "execute_result"
    }
   ],
   "source": [
    "## Question 2\n",
    "{\n",
    "    \"glossary\": {\n",
    "        \"title\": \"example glossary\",\n",
    "\t\t\"GlossDiv\": {\n",
    "            \"title\": \"S\",\n",
    "\t\t\t\"GlossList\": {\n",
    "                \"GlossEntry\": {\n",
    "                    \"ID\": \"SGML\",\n",
    "\t\t\t\t\t\"SortAs\": \"SGML\",\n",
    "\t\t\t\t\t\"GlossTerm\": \"Standard Generalized Markup Language\",\n",
    "\t\t\t\t\t\"Acronym\": \"SGML\",\n",
    "\t\t\t\t\t\"Abbrev\": \"ISO 8879:1986\",\n",
    "\t\t\t\t\t\"GlossDef\": {\n",
    "                        \"para\": \"A meta-markup language, used to create markup languages such as DocBook.\",\n",
    "\t\t\t\t\t\t\"GlossSeeAlso\": [\"GML\", \"XML\"]\n",
    "                    },\n",
    "\t\t\t\t\t\"GlossSee\": \"markup\"\n",
    "                }\n",
    "            }\n",
    "        }\n",
    "    }\n",
    "}"
   ]
  },
  {
   "cell_type": "code",
   "execution_count": 5,
   "metadata": {},
   "outputs": [
    {
     "data": {
      "text/plain": [
       "'1akk3k3oodiid8838929sisiiiskklm23mj4hyh2k'"
      ]
     },
     "execution_count": 5,
     "metadata": {},
     "output_type": "execute_result"
    }
   ],
   "source": [
    "## Question 3\n",
    "\"1akk3k3oodiid8838929sisiiiskklm23mj4hyh2k\""
   ]
  },
  {
   "cell_type": "code",
   "execution_count": null,
   "metadata": {
    "collapsed": true
   },
   "outputs": [],
   "source": []
  }
 ],
 "metadata": {
  "kernelspec": {
   "display_name": "Python 2",
   "language": "python",
   "name": "python2"
  },
  "language_info": {
   "codemirror_mode": {
    "name": "ipython",
    "version": 2
   },
   "file_extension": ".py",
   "mimetype": "text/x-python",
   "name": "python",
   "nbconvert_exporter": "python",
   "pygments_lexer": "ipython2",
   "version": "2.7.12"
  }
 },
 "nbformat": 4,
 "nbformat_minor": 2
}
